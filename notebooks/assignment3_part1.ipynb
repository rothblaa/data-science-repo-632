{
 "cells": [
  {
   "cell_type": "code",
   "execution_count": null,
   "metadata": {
    "deletable": false,
    "editable": false,
    "nbgrader": {
     "cell_type": "code",
     "checksum": "262ee4f1cc793d5cc0302d24cbc64461",
     "grade": false,
     "grade_id": "cell-aa820d6aaf4304db",
     "locked": true,
     "schema_version": 3,
     "solution": false
    }
   },
   "outputs": [],
   "source": [
    "version = \"REPLACE_PACKAGE_VERSION\""
   ]
  },
  {
   "cell_type": "markdown",
   "metadata": {
    "deletable": false,
    "editable": false,
    "nbgrader": {
     "cell_type": "markdown",
     "checksum": "5820a78215f2be98f9c3c44453540960",
     "grade": false,
     "grade_id": "cell-24e63ee011a83003",
     "locked": true,
     "schema_version": 3,
     "solution": false
    }
   },
   "source": [
    "---\n",
    "# Assignment 3 Part 1: Single Time Series Forecasting (50 pts)\n",
    "\n",
    "In this assignment, we're going to practise forecasting a single time series. "
   ]
  },
  {
   "cell_type": "code",
   "execution_count": null,
   "metadata": {
    "deletable": false,
    "editable": false,
    "nbgrader": {
     "cell_type": "code",
     "checksum": "d940d1b99e988cc02a4365af87abae75",
     "grade": false,
     "grade_id": "cell-0153dc3ed86e1f61",
     "locked": true,
     "schema_version": 3,
     "solution": false
    },
    "tags": []
   },
   "outputs": [],
   "source": [
    "import numpy as np\n",
    "import pandas as pd\n",
    "import matplotlib.pyplot as plt\n",
    "%matplotlib inline\n",
    "\n",
    "from pandas.plotting import register_matplotlib_converters\n",
    "register_matplotlib_converters()\n",
    "\n",
    "# Suppress warnings\n",
    "import warnings\n",
    "from statsmodels.tools.sm_exceptions import ValueWarning\n",
    "warnings.simplefilter(\"ignore\", ValueWarning)"
   ]
  },
  {
   "cell_type": "code",
   "execution_count": null,
   "metadata": {
    "deletable": false,
    "editable": false,
    "nbgrader": {
     "cell_type": "code",
     "checksum": "a5a42c439ebf526e56ec4991a73b5c50",
     "grade": true,
     "grade_id": "cell-09e090c338a9f021",
     "locked": true,
     "points": 0,
     "schema_version": 3,
     "solution": false,
     "task": false
    },
    "tags": []
   },
   "outputs": [],
   "source": [
    "# Disabling warnings only when this assignment is being graded. Nothing is actually tested here."
   ]
  },
  {
   "cell_type": "markdown",
   "metadata": {
    "deletable": false,
    "editable": false,
    "nbgrader": {
     "cell_type": "markdown",
     "checksum": "03b238a216f1b5d3f9424fb61088c189",
     "grade": false,
     "grade_id": "cell-971449a9e8d421fe",
     "locked": true,
     "schema_version": 3,
     "solution": false
    }
   },
   "source": [
    "We will explore the same time series about **daily new COVID-19 cases globally** as we had in **Assignment 2 Part 1**. In order not to reinvent the wheel, let's import the `load_data` function you wrote previously. "
   ]
  },
  {
   "cell_type": "code",
   "execution_count": null,
   "metadata": {
    "deletable": false,
    "nbgrader": {
     "cell_type": "code",
     "checksum": "d2328da96b461f20cddfb116f305dad3",
     "grade": false,
     "grade_id": "cell-dff468a58e88a186",
     "locked": false,
     "schema_version": 3,
     "solution": true
    },
    "tags": []
   },
   "outputs": [],
   "source": [
    "# Copy and paste the function you wrote in Assignment 2 Part 1 here and import any libraries necessary\n",
    "# We have tried a more elegant solution by using\n",
    "# from ipynb.fs.defs.assignment2_part1 import load_data\n",
    "# but it doesn't work with the autograder...\n",
    "\n",
    "def load_data():\n",
    "    daily_new_cases = None\n",
    "    \n",
    "    # YOUR CODE HERE\n",
    "    raise NotImplementedError()\n",
    "    \n",
    "    return daily_new_cases"
   ]
  },
  {
   "cell_type": "code",
   "execution_count": null,
   "metadata": {
    "deletable": false,
    "editable": false,
    "nbgrader": {
     "cell_type": "code",
     "checksum": "b6e60fa3fe5643770456d6345dce3c92",
     "grade": true,
     "grade_id": "cell-da753c6330d318a8",
     "locked": true,
     "points": 0,
     "schema_version": 3,
     "solution": false
    },
    "tags": []
   },
   "outputs": [],
   "source": [
    "# Sanity checks to make sure you have imported the correct function - no points awarded\n",
    "\n",
    "stu_ans = load_data()\n",
    "\n",
    "assert isinstance(stu_ans, pd.Series), \"Q0: Your function should return a pd.Series. \"\n",
    "assert len(stu_ans) == 212, \"Q0: The length of the series returned is incorrect. \"\n",
    "assert isinstance(stu_ans.index, pd.DatetimeIndex), \"Q0: The index of your series must be a pd.DatetimeIndex. \"\n",
    "assert ((\"2020-01-23\" <= stu_ans.index) & (stu_ans.index <= \"2020-08-21\")).all(), \"Q0: The index of your series contains an incorrect time range. \"\n",
    "assert not stu_ans.isna().any(), \"Q0: Your series contains NaN values. \"\n",
    "assert np.issubdtype(stu_ans.dtype, np.floating), \"Q0: Your series should have a float dtype. \"\n",
    "\n",
    "del stu_ans"
   ]
  },
  {
   "cell_type": "markdown",
   "metadata": {
    "deletable": false,
    "editable": false,
    "nbgrader": {
     "cell_type": "markdown",
     "checksum": "4704928f282c25524375bbd2d6936932",
     "grade": false,
     "grade_id": "cell-d63bebc6fef0f0d1",
     "locked": true,
     "schema_version": 3,
     "solution": false
    }
   },
   "source": [
    "## Question 1: Stationarity Tests (20 pts)\n",
    "\n",
    "Let's first try to understand whether our time series is stationary or not. Recall that a stationary time series has stable statistics, such as constant means and variances, over time. A non-stationary time series would not be very interesting to study, as it is essentially equivalent to a white noise, carrying little information. "
   ]
  },
  {
   "cell_type": "markdown",
   "metadata": {
    "deletable": false,
    "editable": false,
    "nbgrader": {
     "cell_type": "markdown",
     "checksum": "cd478115e5355fdc662cf47b72560bc0",
     "grade": false,
     "grade_id": "cell-580c8a3fe199c750",
     "locked": true,
     "schema_version": 3,
     "solution": false
    }
   },
   "source": [
    "### Question 1a (15 pts)\n",
    "\n",
    "One way of determining stationarity is to calculate some summary statistics. A rolling mean and a rolling standard deviation are the mean and the standard deviation over a rolling window of values. They both have the same length as the original time series. For a rolling window of size $k$, the $j$-th component of the rolling mean $\\mu$ and the rolling standard deviation $\\sigma$ is precisely defined as:\n",
    "\n",
    "\\begin{align}\n",
    "\\mu_{j} &= \\frac{1}{\\min(k, j)} \\sum_{i = \\max(1,j - k + 1)}^{j} x_{i} = \\begin{cases}\n",
    "\\frac{1}{j} \\sum_{i = 1}^{j} x_{i} & \\text{if } j \\leq k \\\\\n",
    "\\frac{1}{k} \\sum_{i = j - k + 1}^{j} x_{i} & \\text{if } j > k\n",
    "\\end{cases} \n",
    "\\\\\n",
    "\\sigma_{j} &= \\sqrt{\\frac{1}{\\min(k, j)} \\sum_{i = \\max(1,j - k + 1)}^{j} \\left(x_{i} - \\mu_{j}\\right)^{2}} = \\begin{cases}\n",
    "\\sqrt{\\frac{1}{j} \\sum_{i = 1}^{j} \\left(x_{i} - \\mu_{j}\\right)^{2}} & \\text{if } j \\leq k \\\\\n",
    "\\sqrt{\\frac{1}{k} \\sum_{i = j - k + 1}^{j} \\left(x_{i} - \\mu_{j}\\right)^{2}} & \\text{if } j > k\n",
    "\\end{cases}\n",
    "\\end{align}\n",
    "\n",
    "where $j \\geq 1$.\n",
    "\n",
    "Complete the function below that takes as input a time series and that calculates the rolling mean and the rolling standard deviation of the input time series. The size of the rolling window is governed by the argument `wd_size`. \n",
    "\n",
    "**This function should return a `tuple` of length 2, whose first component is the rolling mean as a `np.ndarray` and whose last component is the rolling standard deviation as a `np.ndarray`.**"
   ]
  },
  {
   "cell_type": "code",
   "execution_count": null,
   "metadata": {
    "deletable": false,
    "nbgrader": {
     "cell_type": "code",
     "checksum": "f7fbec1a416995ead5486e4a840bbd86",
     "grade": false,
     "grade_id": "cell-993d3b939f534f62",
     "locked": false,
     "schema_version": 3,
     "solution": true
    },
    "tags": []
   },
   "outputs": [],
   "source": [
    "def calc_rolling_stats(ser, wd_size=7):\n",
    "    \"\"\"\n",
    "    Takes in a series and returns the rolling mean and the rolling std for a window of size wd_size\n",
    "    \"\"\"\n",
    "    \n",
    "    rolling_mean, rolling_std = None, None\n",
    "    \n",
    "    # YOUR CODE HERE\n",
    "    raise NotImplementedError()\n",
    "    \n",
    "    return rolling_mean, rolling_std"
   ]
  },
  {
   "cell_type": "code",
   "execution_count": null,
   "metadata": {
    "deletable": false,
    "editable": false,
    "nbgrader": {
     "cell_type": "code",
     "checksum": "f5d6213373e157d2a28978449470c715",
     "grade": true,
     "grade_id": "cell-a7b7858dc829b35f",
     "locked": true,
     "points": 15,
     "schema_version": 3,
     "solution": false
    },
    "tags": []
   },
   "outputs": [],
   "source": [
    "# Autograder tests\n",
    "\n",
    "stu_ser, wd_size = load_data(), 7\n",
    "stu_ans = calc_rolling_stats(stu_ser, wd_size)\n",
    "\n",
    "assert isinstance(stu_ans, tuple), \"Q1a: Your function should return a tuple. \"\n",
    "assert len(stu_ans) == 2, \"Q1a: The length of the tuple returned is incorrect. \"\n",
    "assert isinstance(stu_ans[0], np.ndarray), \"Q1a: Please return the rolling mean as np.ndarray. \"\n",
    "assert isinstance(stu_ans[1], np.ndarray), \"Q1a: Please return the rolling std as np.ndarray. \"\n",
    "assert len(stu_ans[0]) == len(stu_ser), \"Q1a: Your rolling mean should be of the same length as your data. \"\n",
    "assert len(stu_ans[1]) == len(stu_ser), \"Q1a: Your rolling std should be of the same length as your data. \"\n",
    "assert np.issubdtype(stu_ans[0].dtype, np.floating), \"Q1a: Your rolling mean should have a float dtype. \"\n",
    "assert np.issubdtype(stu_ans[1].dtype, np.floating), \"Q1a: Your rolling std should have a float dtype. \"\n",
    "\n",
    "\n",
    "# Some hidden tests\n",
    "\n",
    "\n",
    "del stu_ans, stu_ser, wd_size"
   ]
  },
  {
   "cell_type": "markdown",
   "metadata": {
    "deletable": false,
    "editable": false,
    "nbgrader": {
     "cell_type": "markdown",
     "checksum": "427730ca856df179b969bf99fccf02c4",
     "grade": false,
     "grade_id": "cell-ab6d3c0e1ad2fb0c",
     "locked": true,
     "schema_version": 3,
     "solution": false
    }
   },
   "source": [
    "Let's plot and see the rolling statistics together with the original time series. Is our time series stationary? Why or why not? "
   ]
  },
  {
   "cell_type": "code",
   "execution_count": null,
   "metadata": {
    "tags": []
   },
   "outputs": [],
   "source": [
    "# Let's plot and see the rolling statistics\n",
    "\n",
    "ser, wd_size = load_data(), 7\n",
    "rolling_mean, rolling_std = calc_rolling_stats(ser, wd_size)\n",
    "\n",
    "fig, ax = plt.subplots(figsize=(10, 6))\n",
    "ax.plot(ser, label=\"Original\")\n",
    "ax.plot(pd.Series(rolling_mean, index=ser.index), label=\"Rolling Mean\")\n",
    "ax.plot(pd.Series(rolling_std, index=ser.index), label=\"Rolling Std\")\n",
    "\n",
    "ax.set_xlabel(\"Day\")\n",
    "ax.set_ylabel(\"# Cases\")\n",
    "ax.set_title(\"Daily New COVID-19 Cases Worldwide\\n\" + f\"Rolling Stats with Window Size = {wd_size} Days\")\n",
    "ax.legend()\n",
    "\n",
    "del fig, ax, ser, wd_size, rolling_mean, rolling_std"
   ]
  },
  {
   "cell_type": "markdown",
   "metadata": {
    "deletable": false,
    "editable": false,
    "nbgrader": {
     "cell_type": "markdown",
     "checksum": "518c57d9da06d49a40e3856fc5cb58b1",
     "grade": false,
     "grade_id": "cell-902e515e7633ecbd",
     "locked": true,
     "schema_version": 3,
     "solution": false
    }
   },
   "source": [
    "### Question 1b (5 pts)\n",
    "\n",
    "Now let's see whether the *log return* of our time series is stationary. Complete the function below that computes the log return of a given time series and that returns the result as a `pd.Series` like the following:\n",
    "\n",
    "```\n",
    "2020-01-24    1.064362\n",
    "2020-01-25    0.541027\n",
    "2020-01-26    0.327449\n",
    "2020-01-27    0.167841\n",
    "2020-01-28    1.186893\n",
    "                ...   \n",
    "2020-08-17   -0.013336\n",
    "2020-08-18    0.196096\n",
    "2020-08-19    0.072750\n",
    "2020-08-20   -0.026456\n",
    "2020-08-21    0.013266\n",
    "Length: 211, dtype: float64\n",
    "```\n",
    "\n",
    "where\n",
    "* the index of the series is a `pd.DatetimeIndex`; \n",
    "* the values of the series are the log returns; and\n",
    "* the series doesn't contain any `NaN` values. \n",
    "\n",
    "**This function should return a `pd.Series`, whose index is a `pd.DatetimeIndex`.**"
   ]
  },
  {
   "cell_type": "code",
   "execution_count": null,
   "metadata": {
    "deletable": false,
    "nbgrader": {
     "cell_type": "code",
     "checksum": "632adc5a67ebb06c286f9cbe18581c0c",
     "grade": false,
     "grade_id": "cell-7b3c4bc030367baf",
     "locked": false,
     "schema_version": 3,
     "solution": true
    },
    "tags": []
   },
   "outputs": [],
   "source": [
    "def calc_log_ret(ser):\n",
    "    \"\"\"\n",
    "    Takes in a series and computes the log return\n",
    "    \"\"\"\n",
    "    \n",
    "    log_ret = None\n",
    "    \n",
    "    # YOUR CODE HERE\n",
    "    raise NotImplementedError()\n",
    "    \n",
    "    return log_ret"
   ]
  },
  {
   "cell_type": "code",
   "execution_count": null,
   "metadata": {
    "deletable": false,
    "editable": false,
    "nbgrader": {
     "cell_type": "code",
     "checksum": "3b89247fcf820d9f9ff866b5d8a132b3",
     "grade": true,
     "grade_id": "cell-5599b6afd7087898",
     "locked": true,
     "points": 5,
     "schema_version": 3,
     "solution": false
    },
    "tags": []
   },
   "outputs": [],
   "source": [
    "# Autograder tests\n",
    "\n",
    "stu_ser = load_data()\n",
    "stu_ans = calc_log_ret(stu_ser)\n",
    "\n",
    "assert isinstance(stu_ans, pd.Series), \"Q1b: Your function should return a pd.Series. \"\n",
    "assert len(stu_ans) == len(stu_ser) - 1, \"Q1b: The length of the series returned should be one less than that of your data. \"\n",
    "assert isinstance(stu_ans.index, pd.DatetimeIndex), \"Q1b: The index of your series must be a pd.DatetimeIndex. \"\n",
    "assert ((\"2020-01-24\" <= stu_ans.index) & (stu_ans.index <= \"2020-08-21\")).all(), \"Q1b: The index of your series contains an incorrect time range. \"\n",
    "assert not stu_ans.isna().any(), \"Q1b: Your series contains NaN values. \"\n",
    "assert np.issubdtype(stu_ans.dtype, np.floating), \"Q1b: Your series should have a float dtype. \"\n",
    "\n",
    "# Some hidden tests\n",
    "\n",
    "\n",
    "del stu_ans, stu_ser"
   ]
  },
  {
   "cell_type": "markdown",
   "metadata": {
    "deletable": false,
    "editable": false,
    "nbgrader": {
     "cell_type": "markdown",
     "checksum": "cf4b6a72880589495152367be67dbdb6",
     "grade": false,
     "grade_id": "cell-36e023c65cfab334",
     "locked": true,
     "schema_version": 3,
     "solution": false
    }
   },
   "source": [
    "This time let's plot and see the rolling statistics together with the log returns. Are the log returns of our time series stationary? Why or why not? "
   ]
  },
  {
   "cell_type": "code",
   "execution_count": null,
   "metadata": {
    "tags": []
   },
   "outputs": [],
   "source": [
    "# Let's plot and see the rolling statistics\n",
    "\n",
    "log_ret, wd_size = calc_log_ret(load_data()), 7\n",
    "rolling_mean, rolling_std = calc_rolling_stats(log_ret, wd_size)\n",
    "\n",
    "fig, ax = plt.subplots(figsize=(10, 6))\n",
    "ax.plot(log_ret, label=\"Log Return\")\n",
    "ax.plot(pd.Series(rolling_mean, index=log_ret.index), label=\"Rolling Mean\")\n",
    "ax.plot(pd.Series(rolling_std, index=log_ret.index), label=\"Rolling Std\")\n",
    "\n",
    "ax.set_xlabel(\"Day\")\n",
    "ax.set_title(\"Log Return of Daily New COVID-19 Cases Worldwide\\n\" + f\"Rolling Stats with Window Size = {wd_size} Days\")\n",
    "ax.legend()\n",
    "\n",
    "del fig, ax, log_ret, wd_size, rolling_mean, rolling_std"
   ]
  },
  {
   "cell_type": "markdown",
   "metadata": {
    "deletable": false,
    "editable": false,
    "nbgrader": {
     "cell_type": "markdown",
     "checksum": "429f187f88fa63176d501a0e3b26c73c",
     "grade": false,
     "grade_id": "cell-1e1b096292b15b41",
     "locked": true,
     "schema_version": 3,
     "solution": false
    }
   },
   "source": [
    "Yet another way of determining stationarity would be to use a statistical test, such as the [Augmented Dickey-Fuller unit root test](https://en.wikipedia.org/wiki/Augmented_Dickey%E2%80%93Fuller_test). The null hypothesis is usually that the time series is non-stationary. A $p$-value less than $0.05$ would lead to the conclusion that the time series is stationary, although [some scientists have risen up against this magic numer](https://www.nature.com/articles/d41586-019-00857-9)!"
   ]
  },
  {
   "cell_type": "code",
   "execution_count": null,
   "metadata": {
    "tags": []
   },
   "outputs": [],
   "source": [
    "# An example of performing an Augmented Dickey-Fuller unit root test\n",
    "\n",
    "from statsmodels.tsa.stattools import adfuller\n",
    "\n",
    "_, pval, *_ = adfuller(load_data())\n",
    "print(f\"p-value: {pval}\")\n",
    "\n",
    "del adfuller, pval"
   ]
  },
  {
   "cell_type": "markdown",
   "metadata": {
    "deletable": false,
    "editable": false,
    "nbgrader": {
     "cell_type": "markdown",
     "checksum": "9501f6470fc115ee9199a85b9763d41a",
     "grade": false,
     "grade_id": "cell-2939c5cace465fa0",
     "locked": true,
     "schema_version": 3,
     "solution": false
    }
   },
   "source": [
    "## Question 2: Autocorrelations (10 pts)\n",
    "\n",
    "Observations in a time series are often not isolated but rather correlated. That is, there might be a correlation between an observation $y_{t}$ and another observation $y_{t - k}$ that is $k$ time steps (or *lags*) earlier. (Partial) autocorrelations precisely capture this idea. "
   ]
  },
  {
   "cell_type": "markdown",
   "metadata": {
    "deletable": false,
    "editable": false,
    "nbgrader": {
     "cell_type": "markdown",
     "checksum": "dce0bff181e15e237ceeb84214f47998",
     "grade": false,
     "grade_id": "cell-f9dcce57f7fd0e4a",
     "locked": true,
     "schema_version": 3,
     "solution": false
    }
   },
   "source": [
    "### Question 2a (5 pts)\n",
    "\n",
    "Complete the function below to calculate the **Autocorrelation Function (ACF)** of the input time series, with the maximum number of lags to consider specified by the parameter `max_lag`. You may use the `acf` function from the `statsmodels` library. \n",
    "\n",
    "**This function should return a `np.ndarray` of length `max_lag + 1`.**"
   ]
  },
  {
   "cell_type": "code",
   "execution_count": null,
   "metadata": {
    "deletable": false,
    "nbgrader": {
     "cell_type": "code",
     "checksum": "73ff8db9aa0649936baa5b008e2f77a8",
     "grade": false,
     "grade_id": "cell-e896207bcc59798b",
     "locked": false,
     "schema_version": 3,
     "solution": true
    },
    "tags": []
   },
   "outputs": [],
   "source": [
    "def calc_acf(ser, max_lag):\n",
    "    \"\"\"\n",
    "    Takes a series and calculates the ACF\n",
    "    \"\"\"\n",
    "    \n",
    "    ans_acf = None\n",
    "    \n",
    "    #HINT: use acf from statsmodel    \n",
    "    \n",
    "    # YOUR CODE HERE\n",
    "    raise NotImplementedError()\n",
    "    \n",
    "    return ans_acf"
   ]
  },
  {
   "cell_type": "code",
   "execution_count": null,
   "metadata": {
    "deletable": false,
    "editable": false,
    "nbgrader": {
     "cell_type": "code",
     "checksum": "f4fd8af5708046b3684a559b3dcd0c36",
     "grade": true,
     "grade_id": "cell-b9358e200e7341eb",
     "locked": true,
     "points": 5,
     "schema_version": 3,
     "solution": false
    },
    "tags": []
   },
   "outputs": [],
   "source": [
    "# Autograder tests\n",
    "\n",
    "stu_ser, max_lag = load_data(), 30\n",
    "stu_ans = calc_acf(stu_ser, max_lag)\n",
    "\n",
    "assert isinstance(stu_ans, np.ndarray), \"Q2a: Your function should return a np.ndarray. \"\n",
    "assert len(stu_ans) == max_lag + 1, \"Q2a: The length of the ACF returned is incorrect. \"\n",
    "assert np.issubdtype(stu_ans.dtype, np.floating), \"Q2a: Your np.ndarray should have a float dtype. \"\n",
    "\n",
    "\n",
    "# Some hidden tests\n",
    "\n",
    "\n",
    "del stu_ans, stu_ser, max_lag"
   ]
  },
  {
   "cell_type": "markdown",
   "metadata": {
    "deletable": false,
    "editable": false,
    "nbgrader": {
     "cell_type": "markdown",
     "checksum": "118bc9ff054954b16d1a9ea19fd9abe4",
     "grade": false,
     "grade_id": "cell-b06194f2c905a730",
     "locked": true,
     "schema_version": 3,
     "solution": false
    }
   },
   "source": [
    "Let's see a plot of the ACF. "
   ]
  },
  {
   "cell_type": "code",
   "execution_count": null,
   "metadata": {
    "tags": []
   },
   "outputs": [],
   "source": [
    "from statsmodels.graphics.tsaplots import plot_acf\n",
    "\n",
    "ser, max_lag = load_data(), 30\n",
    "\n",
    "fig, ax = plt.subplots(1, 1, figsize=(8, 6))\n",
    "\n",
    "plot_acf(ser, ax, lags=max_lag, title=\"Daily New COVID-19 Cases Worldwide\\nAutocorrelation Function\")\n",
    "ax.set_xlabel(r\"Lag\")\n",
    "ax.set_ylabel(r\"Correlation\")\n",
    "\n",
    "del fig, ax, ser, max_lag, plot_acf"
   ]
  },
  {
   "cell_type": "markdown",
   "metadata": {
    "deletable": false,
    "editable": false,
    "nbgrader": {
     "cell_type": "markdown",
     "checksum": "6958dd9bdae57481f51f99d306a0462c",
     "grade": false,
     "grade_id": "cell-5246f448e422cd04",
     "locked": true,
     "schema_version": 3,
     "solution": false
    }
   },
   "source": [
    "### Question 2b (5 pts)\n",
    "\n",
    "Complete the function below to calculate the **Partial Autocorrelation Function (PACF)** of the input time series, with the maximum number of lags to consider specified by the parameter `max_lag`. You may use the `pacf` function from the `statsmodels` library. \n",
    "\n",
    "**This function should return a `np.ndarray` of length `max_lag + 1`.**"
   ]
  },
  {
   "cell_type": "code",
   "execution_count": null,
   "metadata": {
    "deletable": false,
    "nbgrader": {
     "cell_type": "code",
     "checksum": "aa13a7038c595d8a0db14ae715dd948b",
     "grade": false,
     "grade_id": "cell-371c94cdc6c0929c",
     "locked": false,
     "schema_version": 3,
     "solution": true
    },
    "tags": []
   },
   "outputs": [],
   "source": [
    "def calc_pacf(ser, max_lag):\n",
    "    \"\"\"\n",
    "    Takes a series and calculates the PACF\n",
    "    \"\"\"\n",
    "    \n",
    "    ans_pacf = None\n",
    "    \n",
    "    #HINT: use pacf from statsmodel   \n",
    "    \n",
    "    # YOUR CODE HERE\n",
    "    raise NotImplementedError()\n",
    "    \n",
    "    return ans_pacf"
   ]
  },
  {
   "cell_type": "code",
   "execution_count": null,
   "metadata": {
    "deletable": false,
    "editable": false,
    "nbgrader": {
     "cell_type": "code",
     "checksum": "a043b6c11ab3f0a714d7231f22e272a1",
     "grade": true,
     "grade_id": "cell-9c2ceefef7c5d9c2",
     "locked": true,
     "points": 5,
     "schema_version": 3,
     "solution": false
    },
    "tags": []
   },
   "outputs": [],
   "source": [
    "# Autograder tests\n",
    "\n",
    "stu_ser, max_lag = load_data(), 30\n",
    "stu_ans = calc_pacf(stu_ser, max_lag)\n",
    "\n",
    "assert isinstance(stu_ans, np.ndarray), \"Q2b: Your function should return a np.ndarray. \"\n",
    "assert len(stu_ans) == max_lag + 1, \"Q2b: The length of the PACF returned is incorrect. \"\n",
    "assert np.issubdtype(stu_ans.dtype, np.floating), \"Q2b: Your np.ndarray should have a float dtype. \"\n",
    "\n",
    "# Some hidden tests\n",
    "\n",
    "\n",
    "del stu_ans, stu_ser, max_lag"
   ]
  },
  {
   "cell_type": "markdown",
   "metadata": {
    "deletable": false,
    "editable": false,
    "nbgrader": {
     "cell_type": "markdown",
     "checksum": "e1bae8f9e67fa24e9af843c22aa1108a",
     "grade": false,
     "grade_id": "cell-b51865eb271a7496",
     "locked": true,
     "schema_version": 3,
     "solution": false
    }
   },
   "source": [
    "Let's see a plot of the PACF. "
   ]
  },
  {
   "cell_type": "code",
   "execution_count": null,
   "metadata": {
    "tags": []
   },
   "outputs": [],
   "source": [
    "from statsmodels.graphics.tsaplots import plot_pacf\n",
    "\n",
    "ser, max_lag = load_data(), 30\n",
    "\n",
    "fig, ax = plt.subplots(1, 1, figsize=(8, 6))\n",
    "\n",
    "plot_pacf(ser, ax, lags=max_lag, title=\"Daily New COVID-19 Cases Worldwide\\nPartial Autocorrelation Function\")\n",
    "ax.set_xlabel(r\"Lag\")\n",
    "ax.set_ylabel(r\"Correlation\")\n",
    "\n",
    "del fig, ax, ser, max_lag, plot_pacf"
   ]
  },
  {
   "cell_type": "markdown",
   "metadata": {
    "deletable": false,
    "editable": false,
    "nbgrader": {
     "cell_type": "markdown",
     "checksum": "1bcaf6e1b0b94993f77b9ddde6625c39",
     "grade": false,
     "grade_id": "cell-4b22a356806c732d",
     "locked": true,
     "schema_version": 3,
     "solution": false
    }
   },
   "source": [
    "## Question 3: ARMA on Log Returns (10 pts)\n",
    "\n",
    "Complete the function below that fits an $\\mathrm{ARMA}(p, q)$ model on the **log return** of an input series. Your function should return a multi-day forecast in the original data space (i.e., the number of daily new cases globally) starting from `2020-08-22`. For example, if `num_forecasts=20`, your function should return a `pd.Series` similar to\n",
    "\n",
    "\n",
    "```\n",
    "2020-08-22    236649.383553\n",
    "2020-08-23    235963.721915\n",
    "2020-08-24    237324.700457\n",
    "                ...\n",
    "2020-09-08    275463.404820\n",
    "2020-09-09    304728.868070\n",
    "2020-09-10    304782.025421\n",
    "Freq: D, Name: predicted_mean, dtype: float64\n",
    "\n",
    "```\n",
    "\n",
    "where\n",
    "* the index of the series is a `pd.DatetimeIndex`; \n",
    "* the values of the series are the forecasted daily new cases; and\n",
    "* the series doesn't contain any `NaN` values. \n",
    "\n",
    "This question is graded on the Root Mean Sqaure Error (RMSE) of your forecasts. You have complete freedom in how you'd like to implement the function, but one recommended API to use is the `ARIMA` class from the `statsmodels` library. Why do we recommend `ARIMA`, when the question actually asks for a $\\mathrm{ARMA}(p, q)$ model? Hopefully you'll find it out while working on the implementation!\n",
    "\n",
    "It's fine if you receive a `ConvergenceWarning` when running your code. In fact, it would be interesting to think about *why* you should receive such. What characteristics of your input time series make the model fail to converge? \n",
    "\n",
    "**This function should return a `pd.Series` of length `num_forecasts`, whose index is a `pd.DatetimeIndex`.**"
   ]
  },
  {
   "cell_type": "code",
   "execution_count": null,
   "metadata": {
    "deletable": false,
    "nbgrader": {
     "cell_type": "code",
     "checksum": "75f6508e5120eb1b1083e19fd7013837",
     "grade": false,
     "grade_id": "cell-69afe3a5c5318d23",
     "locked": false,
     "schema_version": 3,
     "solution": true
    },
    "tags": []
   },
   "outputs": [],
   "source": [
    "from statsmodels.tsa.arima.model import ARIMA\n",
    "\n",
    "def arma_log_ret(ser, p, q, num_forecasts):\n",
    "    \"\"\"\n",
    "    Takes a series and fits an ARMA(p, q) model on log return. \n",
    "    Returns a number of forecasts as specified by num_forecasts. \n",
    "    \"\"\"\n",
    "    \n",
    "    forecasts = None \n",
    "    \n",
    "    # YOUR CODE HERE\n",
    "    raise NotImplementedError()\n",
    "    \n",
    "    return forecasts\n"
   ]
  },
  {
   "cell_type": "code",
   "execution_count": null,
   "metadata": {
    "deletable": false,
    "editable": false,
    "nbgrader": {
     "cell_type": "code",
     "checksum": "504f54d65cadbb1ad335ddc2e60f9abc",
     "grade": true,
     "grade_id": "cell-42effd305abc8d0d",
     "locked": true,
     "points": 10,
     "schema_version": 3,
     "solution": false
    },
    "tags": []
   },
   "outputs": [],
   "source": [
    "# Autograder tests\n",
    "\n",
    "stu_ser = load_data()\n",
    "p, q, num_forecasts = 7, 7, 20\n",
    "\n",
    "stu_ans = arma_log_ret(stu_ser, p, q, num_forecasts)\n",
    "\n",
    "assert isinstance(stu_ans, pd.Series), \"Q3: Your function should return a pd.Series. \"\n",
    "assert len(stu_ans) == num_forecasts, \"Q3: The length of the series returned is incorrect. \"\n",
    "assert isinstance(stu_ans.index, pd.DatetimeIndex), \"Q3: The index of your series must be a pd.DatetimeIndex. \"\n",
    "assert ((\"2020-08-22\" <= stu_ans.index) & (stu_ans.index <= \"2020-09-10\")).all(), \"Q3: The index of your series contains an incorrect time range. \"\n",
    "assert not stu_ans.isna().any(), \"Q3: Your series contains NaN values. \"\n",
    "assert np.issubdtype(stu_ans.dtype, np.floating), \"Q3: Your series should have a float dtype. \"\n",
    "\n",
    "# Some hidden tests\n",
    "\n",
    "\n",
    "del stu_ser, stu_ans, p, q, num_forecasts"
   ]
  },
  {
   "cell_type": "markdown",
   "metadata": {
    "deletable": false,
    "editable": false,
    "nbgrader": {
     "cell_type": "markdown",
     "checksum": "85f7499158e69167ebc8965f2cb5f51a",
     "grade": false,
     "grade_id": "cell-221cc22c9e3cad75",
     "locked": true,
     "schema_version": 3,
     "solution": false
    }
   },
   "source": [
    "Now let's plot and compare the original time series, your forecasts and the ground-truth values of your forecasts. "
   ]
  },
  {
   "cell_type": "code",
   "execution_count": null,
   "metadata": {},
   "outputs": [],
   "source": [
    "ser = load_data()\n",
    "p, q, num_forecasts = 7, 7, 20\n",
    "\n",
    "forecasts = arma_log_ret(ser, p, q, num_forecasts)\n",
    "actual = pd.read_pickle(\"assets/actual.pkl\")\n",
    "rmse = np.sqrt(np.mean((actual - forecasts) ** 2))\n",
    "\n",
    "fig, ax = plt.subplots(figsize=(10, 6))\n",
    "ax.plot(ser, label=\"Original\")\n",
    "ax.plot(ser[-1:].append(forecasts), label=\"Forecasted\")\n",
    "ax.plot(ser[-1:].append(actual), label=\"Actual\")\n",
    "\n",
    "ax.set_xlabel(\"Day\")\n",
    "ax.set_title(\"Daily New COVID-19 Cases Worldwide\\n\" + f\"A {len(forecasts)}-day Forecast, RMSE = {rmse: .2f}\")\n",
    "ax.legend()\n",
    "\n",
    "del fig, ax, ser, p, q, num_forecasts, forecasts, actual"
   ]
  },
  {
   "cell_type": "markdown",
   "metadata": {
    "deletable": false,
    "editable": false,
    "nbgrader": {
     "cell_type": "markdown",
     "checksum": "85af5b32b9e00affe45dba5c6482d45f",
     "grade": false,
     "grade_id": "cell-caf5a40a85230775",
     "locked": true,
     "schema_version": 3,
     "solution": false
    }
   },
   "source": [
    "## Question 4: ARMA on First-order Differences (10 pts)\n",
    "\n",
    "Complete the function below that fits an $\\mathrm{ARMA}(p, q)$ model on the **first-order differences** of an input series. Your function should return a multi-day forecast in the original data space (i.e., the number of daily new cases globally) starting from `2020-08-22`. For example, if `num_forecasts=20`, your function should return a `pd.Series` similar to\n",
    "\n",
    "\n",
    "```\n",
    "2020-08-22    242994.084820\n",
    "2020-08-23    205194.792913\n",
    "2020-08-24    201803.644029\n",
    "                ...\n",
    "2020-09-08    214574.419936\n",
    "2020-09-09    243506.281330\n",
    "2020-09-10    253847.751339\n",
    "Freq: D, Name: predicted_mean, dtype: float64\n",
    "```\n",
    "\n",
    "where\n",
    "* the index of the series is a `pd.DatetimeIndex`; \n",
    "* the values of the series are the forecasted daily new cases; and\n",
    "* the series doesn't contain any `NaN` values. \n",
    "\n",
    "You have complete freedom in how you'd like to implement the function, but one recommended API to use is the `ARIMA` class from the `statsmodels` library. Why do we recommend `ARIMA`, when the question actually asks for a $\\mathrm{ARMA}(p, q)$ model? Again, hopefully you'll find it out while working on the implementation!\n",
    "\n",
    "It's fine if you receive a `ConvergenceWarning` or a `UserWarning` when running your code. Still, it would be interesting to think about what characteristics of your input time series make the model fail to converge. \n",
    "\n",
    "**This function should return a `pd.Series` of length `num_forecasts`, whose index is a `pd.DatetimeIndex`.**"
   ]
  },
  {
   "cell_type": "code",
   "execution_count": null,
   "metadata": {
    "deletable": false,
    "nbgrader": {
     "cell_type": "code",
     "checksum": "dec39dfb08a1657f3575fd0056886c22",
     "grade": false,
     "grade_id": "cell-e02c1a2ff068f6c2",
     "locked": false,
     "schema_version": 3,
     "solution": true
    }
   },
   "outputs": [],
   "source": [
    "from statsmodels.tsa.arima.model import ARIMA\n",
    "\n",
    "def arma_first_diff(ser, p, q, num_forecasts):\n",
    "    \"\"\"\n",
    "    Takes a series and fits an ARMA(p, q) model on first-order diff. \n",
    "    Returns a number of forecasts as specified by num_forecasts. \n",
    "    \"\"\"\n",
    "    \n",
    "    forecasts = None    \n",
    "    \n",
    "\n",
    "    # YOUR CODE HERE\n",
    "    raise NotImplementedError()\n",
    "    \n",
    "    return forecasts"
   ]
  },
  {
   "cell_type": "code",
   "execution_count": null,
   "metadata": {
    "deletable": false,
    "editable": false,
    "nbgrader": {
     "cell_type": "code",
     "checksum": "1b50c60d9d8a14a94bc2d23ea94fdb5e",
     "grade": true,
     "grade_id": "cell-da7ae71db1772443",
     "locked": true,
     "points": 10,
     "schema_version": 3,
     "solution": false
    }
   },
   "outputs": [],
   "source": [
    "# Autograder tests\n",
    "\n",
    "stu_ser = load_data()\n",
    "p, q, num_forecasts = 7, 7, 20\n",
    "\n",
    "stu_ans = arma_first_diff(stu_ser, p, q, num_forecasts)\n",
    "\n",
    "assert isinstance(stu_ans, pd.Series), \"Q4: Your function should return a pd.Series. \"\n",
    "assert len(stu_ans) == num_forecasts, \"Q4: The length of the series returned is incorrect. \"\n",
    "assert isinstance(stu_ans.index, pd.DatetimeIndex), \"Q4: The index of your series must be a pd.DatetimeIndex. \"\n",
    "assert ((\"2020-08-22\" <= stu_ans.index) & (stu_ans.index <= \"2020-09-10\")).all(), \"Q4: The index of your series contains an incorrect time range. \"\n",
    "assert not stu_ans.isna().any(), \"Q4: Your series contains NaN values. \"\n",
    "assert np.issubdtype(stu_ans.dtype, np.floating), \"Q4: Your series should have a float dtype. \"\n",
    "\n",
    "# Some hidden tests\n",
    "\n",
    "\n",
    "del stu_ser, stu_ans, p, q, num_forecasts"
   ]
  },
  {
   "cell_type": "markdown",
   "metadata": {
    "deletable": false,
    "editable": false,
    "nbgrader": {
     "cell_type": "markdown",
     "checksum": "ffd533cb430c5a3827d3acdce6ffdc4c",
     "grade": false,
     "grade_id": "cell-5405507ff23a5069",
     "locked": true,
     "schema_version": 3,
     "solution": false
    }
   },
   "source": [
    "Now let's plot and compare the original time series, your forecasts and the ground-truth values of your forecasts. How does this compare with the one trained on log returns? "
   ]
  },
  {
   "cell_type": "code",
   "execution_count": null,
   "metadata": {},
   "outputs": [],
   "source": [
    "ser = load_data()\n",
    "p, q, num_forecasts = 7, 7, 20\n",
    "\n",
    "forecasts = arma_first_diff(ser, p, q, num_forecasts)\n",
    "actual = pd.read_pickle(\"assets/actual.pkl\")\n",
    "rmse = np.sqrt(np.mean((actual - forecasts) ** 2))\n",
    "\n",
    "fig, ax = plt.subplots(figsize=(10, 6))\n",
    "ax.plot(ser, label=\"Original\")\n",
    "ax.plot(ser[-1:].append(forecasts), label=\"Forecasted\")\n",
    "ax.plot(ser[-1:].append(actual), label=\"Actual\")\n",
    "\n",
    "ax.set_xlabel(\"Day\")\n",
    "ax.set_title(\"Daily New COVID-19 Cases Worldwide\\n\" + f\"A {len(forecasts)}-day Forecast, RMSE = {rmse: .2f}\")\n",
    "ax.legend()\n",
    "\n",
    "del fig, ax, ser, p, q, num_forecasts, forecasts, actual"
   ]
  }
 ],
 "metadata": {
  "kernelspec": {
   "display_name": "Python 3.10 (ipykernel)",
   "language": "python",
   "name": "python3"
  },
  "language_info": {
   "codemirror_mode": {
    "name": "ipython",
    "version": 3
   },
   "file_extension": ".py",
   "mimetype": "text/x-python",
   "name": "python",
   "nbconvert_exporter": "python",
   "pygments_lexer": "ipython3",
   "version": "3.10.11"
  }
 },
 "nbformat": 4,
 "nbformat_minor": 4
}
